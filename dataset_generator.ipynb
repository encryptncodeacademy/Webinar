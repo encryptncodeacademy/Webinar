{
 "cells": [
  {
   "cell_type": "code",
   "execution_count": 2,
   "metadata": {},
   "outputs": [],
   "source": [
    "import cv2\n",
    "import numpy as np\n",
    "import os"
   ]
  },
  {
   "cell_type": "code",
   "execution_count": null,
   "metadata": {},
   "outputs": [
    {
     "name": "stdout",
     "output_type": "stream",
     "text": [
      "[UPDATING.....]40th/2819.0 frame detected and stored\n",
      "[UPDATING.....]80th/2819.0 frame detected and stored\n",
      "[UPDATING.....]120th/2819.0 frame detected and stored\n",
      "[UPDATING.....]160th/2819.0 frame detected and stored\n",
      "[UPDATING.....]200th/2819.0 frame detected and stored\n",
      "[UPDATING.....]240th/2819.0 frame detected and stored\n",
      "[UPDATING.....]280th/2819.0 frame detected and stored\n",
      "[UPDATING.....]320th/2819.0 frame detected and stored\n",
      "[UPDATING.....]360th/2819.0 frame detected and stored\n",
      "[UPDATING.....]400th/2819.0 frame detected and stored\n",
      "[UPDATING.....]440th/2819.0 frame detected and stored\n",
      "[UPDATING.....]480th/2819.0 frame detected and stored\n",
      "[UPDATING.....]520th/2819.0 frame detected and stored\n",
      "[UPDATING.....]560th/2819.0 frame detected and stored\n",
      "[UPDATING.....]600th/2819.0 frame detected and stored\n",
      "[UPDATING.....]640th/2819.0 frame detected and stored\n",
      "[UPDATING.....]680th/2819.0 frame detected and stored\n",
      "[UPDATING.....]720th/2819.0 frame detected and stored\n",
      "[UPDATING.....]760th/2819.0 frame detected and stored\n",
      "[UPDATING.....]800th/2819.0 frame detected and stored\n",
      "[UPDATING.....]840th/2819.0 frame detected and stored\n",
      "[UPDATING.....]880th/2819.0 frame detected and stored\n",
      "[UPDATING.....]920th/2819.0 frame detected and stored\n",
      "[UPDATING.....]960th/2819.0 frame detected and stored\n",
      "[UPDATING.....]1000th/2819.0 frame detected and stored\n",
      "[UPDATING.....]1040th/2819.0 frame detected and stored\n",
      "[UPDATING.....]1080th/2819.0 frame detected and stored\n"
     ]
    }
   ],
   "source": [
    "def generate_dataset(movie_name, class_name):\n",
    "    def draw_circle(event, x, y, flags, param):\n",
    "        global ix, iy\n",
    "        if event == cv2.EVENT_LBUTTONDOWN:\n",
    "            ix, iy = x, y\n",
    "    if class_name not in os.listdir():\n",
    "        os.mkdir(class_name)\n",
    "    grab_size = 25\n",
    "    movieName = movie_name\n",
    "    cap = cv2.VideoCapture(movieName)\n",
    "    nframe =cap.get(cv2.CAP_PROP_FRAME_COUNT)\n",
    "    i=0\n",
    "    steps= 40\n",
    "    while(cap.isOpened() & (i<(nframe-steps))):\n",
    "      i = i + steps\n",
    "      print(\"[UPDATING.....]{}th/{} frame detected and stored\".format(i, nframe))\n",
    "      cap.set(cv2.CAP_PROP_POS_FRAMES,i)\n",
    "      ret, img = cap.read()\n",
    "      cv2.namedWindow(\"image\", cv2.WINDOW_NORMAL)\n",
    "      cv2.resizeWindow('image', 1920, 1080)\n",
    "      cv2.setMouseCallback(\"image\", draw_circle)\n",
    "      counter = 0\n",
    "      while(1):\n",
    "          counter+=1\n",
    "          cv2.imshow(\"image\", img)\n",
    "          k = cv2.waitKey(20) & 0xFF\n",
    "          if k == 27:\n",
    "              break\n",
    "          elif k == ord('a'):\n",
    "              crop_img = img[iy-grab_size:iy+(grab_size),ix-grab_size:ix+(grab_size)]\n",
    "              cv2.imwrite(class_name + \"/{}{}.jpg\".format(class_name, counter), crop_img)\n",
    "              cv2.circle(img,(ix,iy),int(grab_size),(0,255,0),2)\n",
    "      cv2.destroyAllWindows()\n",
    "generate_dataset(\"Caribau Migration.mp4\", \"yes\")"
   ]
  },
  {
   "cell_type": "code",
   "execution_count": null,
   "metadata": {},
   "outputs": [],
   "source": []
  }
 ],
 "metadata": {
  "kernelspec": {
   "display_name": "Python 3",
   "language": "python",
   "name": "python3"
  },
  "language_info": {
   "codemirror_mode": {
    "name": "ipython",
    "version": 3
   },
   "file_extension": ".py",
   "mimetype": "text/x-python",
   "name": "python",
   "nbconvert_exporter": "python",
   "pygments_lexer": "ipython3",
   "version": "3.8.2"
  }
 },
 "nbformat": 4,
 "nbformat_minor": 4
}
