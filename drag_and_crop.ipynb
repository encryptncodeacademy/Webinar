{
 "cells": [
  {
   "cell_type": "code",
   "execution_count": 1,
   "metadata": {},
   "outputs": [],
   "source": [
    "import cv2\n",
    "import numpy as np\n",
    "import os"
   ]
  },
  {
   "cell_type": "code",
   "execution_count": 2,
   "metadata": {},
   "outputs": [],
   "source": [
    "refPt = []\n",
    "cropping = False\n",
    "def click_and_crop(event, x, y, flags, param):\n",
    "    global refPt, cropping\n",
    "    if event == cv2.EVENT_LBUTTONDOWN:\n",
    "        refPt = [(x, y)]\n",
    "        cropping = True\n",
    "    elif event == cv2.EVENT_LBUTTONUP:\n",
    "        refPt.append((x, y))\n",
    "        cropping = False\n",
    "        cv2.rectangle(image, refPt[0], refPt[1], (0, 255, 0), 2)\n",
    "        cv2.namedWindow(\"image\", cv2.WINDOW_NORMAL)\n",
    "        cv2.resizeWindow(\"image\", 1920, 1080)\n",
    "        cv2.imshow(\"image\", image)\n",
    "        cv2.imshow(\"image\", image)\n"
   ]
  },
  {
   "cell_type": "code",
   "execution_count": 4,
   "metadata": {},
   "outputs": [],
   "source": [
    "image = cv2.imread(\"tiger.png\")\n",
    "clone = image.copy()\n",
    "cv2.namedWindow(\"image\")\n",
    "cv2.setMouseCallback(\"image\", click_and_crop)\n",
    "while True:\n",
    "    cv2.namedWindow(\"image\", cv2.WINDOW_NORMAL)\n",
    "    cv2.resizeWindow(\"image\", 1920, 1080)\n",
    "    cv2.imshow(\"image\", image)\n",
    "    key = cv2.waitKey(1) & 0xFF\n",
    "    if key == ord(\"r\"):\n",
    "        image = clone.copy()\n",
    "    elif key == ord(\"c\"):\n",
    "        break\n",
    "if len(refPt) == 2:\n",
    "    roi = clone[refPt[0][1]:refPt[1][1], refPt[0][0]:refPt[1][0]]\n",
    "    cv2.imshow(\"ROI\", roi)\n",
    "    cv2.waitKey(0)\n",
    "    cv2.destroyAllWindows()\n"
   ]
  },
  {
   "cell_type": "code",
   "execution_count": null,
   "metadata": {},
   "outputs": [],
   "source": []
  }
 ],
 "metadata": {
  "kernelspec": {
   "display_name": "Python 3",
   "language": "python",
   "name": "python3"
  },
  "language_info": {
   "codemirror_mode": {
    "name": "ipython",
    "version": 3
   },
   "file_extension": ".py",
   "mimetype": "text/x-python",
   "name": "python",
   "nbconvert_exporter": "python",
   "pygments_lexer": "ipython3",
   "version": "3.8.2"
  }
 },
 "nbformat": 4,
 "nbformat_minor": 4
}
